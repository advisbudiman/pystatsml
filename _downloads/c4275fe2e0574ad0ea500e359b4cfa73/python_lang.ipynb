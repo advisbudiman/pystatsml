{
  "cells": [
    {
      "cell_type": "code",
      "execution_count": null,
      "metadata": {
        "collapsed": false
      },
      "outputs": [],
      "source": [
        "%matplotlib inline"
      ]
    },
    {
      "cell_type": "markdown",
      "metadata": {},
      "source": [
        "\n**Source** Kevin Markham https://github.com/justmarkham/python-reference\n"
      ]
    },
    {
      "cell_type": "markdown",
      "metadata": {},
      "source": [
        "# Import libraries\n\n\n"
      ]
    },
    {
      "cell_type": "code",
      "execution_count": null,
      "metadata": {
        "collapsed": false
      },
      "outputs": [],
      "source": [
        "# 'generic import' of math module\nimport math\nmath.sqrt(25)\n\n# import a function\nfrom math import sqrt\nsqrt(25)    # no longer have to reference the module\n\n# import multiple functions at once\nfrom math import cos, floor\n\n# import all functions in a module (generally discouraged)\n# from os import *\n\n# define an alias\nimport numpy as np\n\n# show all functions in math module\ncontent = dir(math)"
      ]
    },
    {
      "cell_type": "markdown",
      "metadata": {},
      "source": [
        "# Basic operations\n\n\n"
      ]
    },
    {
      "cell_type": "code",
      "execution_count": null,
      "metadata": {
        "collapsed": false
      },
      "outputs": [],
      "source": [
        "# Numbers\n10 + 4          # add (returns 14)\n10 - 4          # subtract (returns 6)\n10 * 4          # multiply (returns 40)\n10 ** 4         # exponent (returns 10000)\n10 / 4          # divide (returns 2 because both types are 'int')\n10 / float(4)   # divide (returns 2.5)\n5 % 4           # modulo (returns 1) - also known as the remainder\n\n10 / 4          # true division (returns 2.5)\n10 // 4         # floor division (returns 2)\n\n\n# Boolean operations\n# comparisons (these return True)\n5 > 3\n5 >= 3\n5 != 3\n5 == 5\n\n# boolean operations (these return True)\n5 > 3 and 6 > 3\n5 > 3 or 5 < 3\nnot False\nFalse or not False and True     # evaluation order: not, and, or"
      ]
    },
    {
      "cell_type": "markdown",
      "metadata": {},
      "source": [
        "# Data types\n\n\n"
      ]
    },
    {
      "cell_type": "code",
      "execution_count": null,
      "metadata": {
        "collapsed": false
      },
      "outputs": [],
      "source": [
        "# determine the type of an object\ntype(2)         # returns 'int'\ntype(2.0)       # returns 'float'\ntype('two')     # returns 'str'\ntype(True)      # returns 'bool'\ntype(None)      # returns 'NoneType'\n\n# check if an object is of a given type\nisinstance(2.0, int)            # returns False\nisinstance(2.0, (int, float))   # returns True\n\n# convert an object to a given type\nfloat(2)\nint(2.9)\nstr(2.9)\n\n# zero, None, and empty containers are converted to False\nbool(0)\nbool(None)\nbool('')    # empty string\nbool([])    # empty list\nbool({})    # empty dictionary\n\n# non-empty containers and non-zeros are converted to True\nbool(2)\nbool('two')\nbool([2])"
      ]
    },
    {
      "cell_type": "markdown",
      "metadata": {},
      "source": [
        "## Lists\n\nDifferent objects categorized along a certain ordered sequence, lists\nare ordered, iterable, mutable (adding or removing objects changes the\nlist size), can contain multiple data types.\n\n"
      ]
    },
    {
      "cell_type": "code",
      "execution_count": null,
      "metadata": {
        "collapsed": false
      },
      "outputs": [],
      "source": [
        "# create an empty list (two ways)\nempty_list = []\nempty_list = list()\n\n# create a list\nsimpsons = ['homer', 'marge', 'bart']\n\n# examine a list\nsimpsons[0]     # print element 0 ('homer')\nlen(simpsons)   # returns the length (3)\n\n# modify a list (does not return the list)\nsimpsons.append('lisa')                 # append element to end\nsimpsons.extend(['itchy', 'scratchy'])  # append multiple elements to end\nsimpsons.insert(0, 'maggie')            # insert element at index 0 (shifts everything right)\nsimpsons.remove('bart')                 # searches for first instance and removes it\nsimpsons.pop(0)                         # removes element 0 and returns it\ndel simpsons[0]                         # removes element 0 (does not return it)\nsimpsons[0] = 'krusty'                  # replace element 0\n\n# concatenate lists (slower than 'extend' method)\nneighbors = simpsons + ['ned','rod','todd']\n\n# find elements in a list\n'lisa' in simpsons\nsimpsons.count('lisa')      # counts the number of instances\nsimpsons.index('itchy')     # returns index of first instance\n\n# list slicing [start:end:stride]\nweekdays = ['mon','tues','wed','thurs','fri']\nweekdays[0]         # element 0\nweekdays[0:3]       # elements 0, 1, 2\nweekdays[:3]        # elements 0, 1, 2\nweekdays[3:]        # elements 3, 4\nweekdays[-1]        # last element (element 4)\nweekdays[::2]       # every 2nd element (0, 2, 4)\nweekdays[::-1]      # backwards (4, 3, 2, 1, 0)\n\n# alternative method for returning the list backwards\nlist(reversed(weekdays))\n\n# sort a list in place (modifies but does not return the list)\nsimpsons.sort()\nsimpsons.sort(reverse=True)     # sort in reverse\nsimpsons.sort(key=len)          # sort by a key\n\n# return a sorted list (but does not modify the original list)\nsorted(simpsons)\nsorted(simpsons, reverse=True)\nsorted(simpsons, key=len)\n\n# create a second reference to the same list\nnum = [1, 2, 3]\nsame_num = num\nsame_num[0] = 0         # modifies both 'num' and 'same_num'\n\n# copy a list (three ways)\nnew_num = num.copy()\nnew_num = num[:]\nnew_num = list(num)\n\n# examine objects\nid(num) == id(same_num) # returns True\nid(num) == id(new_num)  # returns False\nnum is same_num         # returns True\nnum is new_num          # returns False\nnum == same_num         # returns True\nnum == new_num          # returns True (their contents are equivalent)\n\n# conatenate +, replicate *\n[1, 2, 3] + [4, 5, 6]\n[\"a\"] * 2 + [\"b\"] * 3"
      ]
    },
    {
      "cell_type": "markdown",
      "metadata": {},
      "source": [
        "## Tuples\n\nLike lists, but their size cannot change: ordered, iterable, immutable,\ncan contain multiple data types\n\n\n"
      ]
    },
    {
      "cell_type": "code",
      "execution_count": null,
      "metadata": {
        "collapsed": false
      },
      "outputs": [],
      "source": [
        "# create a tuple\ndigits = (0, 1, 'two')          # create a tuple directly\ndigits = tuple([0, 1, 'two'])   # create a tuple from a list\nzero = (0,)                     # trailing comma is required to indicate it's a tuple\n\n# examine a tuple\ndigits[2]           # returns 'two'\nlen(digits)         # returns 3\ndigits.count(0)     # counts the number of instances of that value (1)\ndigits.index(1)     # returns the index of the first instance of that value (1)\n\n# elements of a tuple cannot be modified\n# digits[2] = 2       # throws an error\n\n# concatenate tuples\ndigits = digits + (3, 4)\n\n# create a single tuple with elements repeated (also works with lists)\n(3, 4) * 2          # returns (3, 4, 3, 4)\n\n# tuple unpacking\nbart = ('male', 10, 'simpson')  # create a tuple"
      ]
    },
    {
      "cell_type": "markdown",
      "metadata": {},
      "source": [
        "## Strings\n\nA sequence of characters, they are iterable, immutable\n\n\n"
      ]
    },
    {
      "cell_type": "code",
      "execution_count": null,
      "metadata": {
        "collapsed": false
      },
      "outputs": [],
      "source": [
        "# create a string\ns = str(42)         # convert another data type into a string\ns = 'I like you'\n\n# examine a string\ns[0]                # returns 'I'\nlen(s)              # returns 10\n\n# string slicing like lists\ns[:6]               # returns 'I like'\ns[7:]               # returns 'you'\ns[-1]               # returns 'u'\n\n# basic string methods (does not modify the original string)\ns.lower()           # returns 'i like you'\ns.upper()           # returns 'I LIKE YOU'\ns.startswith('I')   # returns True\ns.endswith('you')   # returns True\ns.isdigit()         # returns False (returns True if every character in the string is a digit)\ns.find('like')      # returns index of first occurrence (2), but doesn't support regex\ns.find('hate')      # returns -1 since not found\ns.replace('like','love')    # replaces all instances of 'like' with 'love'\n\n# split a string into a list of substrings separated by a delimiter\ns.split(' ')        # returns ['I','like','you']\ns.split()           # same thing\ns2 = 'a, an, the'\ns2.split(',')       # returns ['a',' an',' the']\n\n# join a list of strings into one string using a delimiter\nstooges = ['larry','curly','moe']\n' '.join(stooges)   # returns 'larry curly moe'\n\n# concatenate strings\ns3 = 'The meaning of life is'\ns4 = '42'\ns3 + ' ' + s4       # returns 'The meaning of life is 42'\ns3 + ' ' + str(42)  # same thing\n\n# remove whitespace from start and end of a string\ns5 = '  ham and cheese  '\ns5.strip()          # returns 'ham and cheese'\n\n# string substitutions: all of these return 'raining cats and dogs'\n'raining %s and %s' % ('cats','dogs')                       # old way\n'raining {} and {}'.format('cats','dogs')                   # new way\n'raining {arg1} and {arg2}'.format(arg1='cats',arg2='dogs') # named arguments\n\n# string formatting\n# more examples: http://mkaz.com/2012/10/10/python-string-format/\n'pi is {:.2f}'.format(3.14159)      # returns 'pi is 3.14'"
      ]
    },
    {
      "cell_type": "markdown",
      "metadata": {},
      "source": [
        "## Strings 2/2\n\n"
      ]
    },
    {
      "cell_type": "markdown",
      "metadata": {},
      "source": [
        "Normal strings allow for escaped characters\n\n\n"
      ]
    },
    {
      "cell_type": "code",
      "execution_count": null,
      "metadata": {
        "collapsed": false
      },
      "outputs": [],
      "source": [
        "print('first line\\nsecond line')"
      ]
    },
    {
      "cell_type": "markdown",
      "metadata": {},
      "source": [
        "raw strings treat backslashes as literal characters\n\n\n"
      ]
    },
    {
      "cell_type": "code",
      "execution_count": null,
      "metadata": {
        "collapsed": false
      },
      "outputs": [],
      "source": [
        "print(r'first line\\nfirst line')"
      ]
    },
    {
      "cell_type": "markdown",
      "metadata": {},
      "source": [
        "Sequence of bytes are not strings, should be decoded before some operations\n\n\n"
      ]
    },
    {
      "cell_type": "code",
      "execution_count": null,
      "metadata": {
        "collapsed": false
      },
      "outputs": [],
      "source": [
        "s = b'first line\\nsecond line'\nprint(s)\n\nprint(s.decode('utf-8').split())"
      ]
    },
    {
      "cell_type": "markdown",
      "metadata": {},
      "source": [
        "## Dictionaries\n\nDictionaries are structures which can contain multiple data types, and\nis ordered with key-value pairs: for each (unique) key, the dictionary\noutputs one value. Keys can be strings, numbers, or tuples, while the\ncorresponding values can be any Python object. Dictionaries are:\nunordered, iterable, mutable\n\n\n"
      ]
    },
    {
      "cell_type": "code",
      "execution_count": null,
      "metadata": {
        "collapsed": false
      },
      "outputs": [],
      "source": [
        "# create an empty dictionary (two ways)\nempty_dict = {}\nempty_dict = dict()\n\n# create a dictionary (two ways)\nfamily = {'dad':'homer', 'mom':'marge', 'size':6}\nfamily = dict(dad='homer', mom='marge', size=6)\n\n# convert a list of tuples into a dictionary\nlist_of_tuples = [('dad','homer'), ('mom','marge'), ('size', 6)]\nfamily = dict(list_of_tuples)\n\n# examine a dictionary\nfamily['dad']       # returns 'homer'\nlen(family)         # returns 3\nfamily.keys()       # returns list: ['dad', 'mom', 'size']\nfamily.values()     # returns list: ['homer', 'marge', 6]\nfamily.items()      # returns list of tuples:\n                    #   [('dad', 'homer'), ('mom', 'marge'), ('size', 6)]\n'mom' in family     # returns True\n'marge' in family   # returns False (only checks keys)\n\n# modify a dictionary (does not return the dictionary)\nfamily['cat'] = 'snowball'              # add a new entry\nfamily['cat'] = 'snowball ii'           # edit an existing entry\ndel family['cat']                       # delete an entry\nfamily['kids'] = ['bart', 'lisa']       # value can be a list\nfamily.pop('dad')                       # removes an entry and returns the value ('homer')\nfamily.update({'baby':'maggie', 'grandpa':'abe'})   # add multiple entries\n\n# accessing values more safely with 'get'\nfamily['mom']                       # returns 'marge'\nfamily.get('mom')                   # same thing\ntry:\n    family['grandma']               # throws an error\nexcept  KeyError as e:\n    print(\"Error\", e)\n\nfamily.get('grandma')               # returns None\nfamily.get('grandma', 'not found')  # returns 'not found' (the default)\n\n# accessing a list element within a dictionary\nfamily['kids'][0]                   # returns 'bart'\nfamily['kids'].remove('lisa')       # removes 'lisa'\n\n# string substitution using a dictionary\n'youngest child is %(baby)s' % family   # returns 'youngest child is maggie'"
      ]
    },
    {
      "cell_type": "markdown",
      "metadata": {},
      "source": [
        "## Sets\n\nLike dictionaries, but with unique keys only (no corresponding values).\nThey are: unordered, iterable, mutable, can contain multiple data types\nmade up of unique elements (strings, numbers, or tuples)\n\n\n"
      ]
    },
    {
      "cell_type": "code",
      "execution_count": null,
      "metadata": {
        "collapsed": false
      },
      "outputs": [],
      "source": [
        "# create an empty set\nempty_set = set()\n\n# create a set\nlanguages = {'python', 'r', 'java'}         # create a set directly\nsnakes = set(['cobra', 'viper', 'python'])  # create a set from a list\n\n# examine a set\nlen(languages)              # returns 3\n'python' in languages       # returns True\n\n# set operations\nlanguages & snakes          # returns intersection: {'python'}\nlanguages | snakes          # returns union: {'cobra', 'r', 'java', 'viper', 'python'}\nlanguages - snakes          # returns set difference: {'r', 'java'}\nsnakes - languages          # returns set difference: {'cobra', 'viper'}\n\n# modify a set (does not return the set)\nlanguages.add('sql')        # add a new element\nlanguages.add('r')          # try to add an existing element (ignored, no error)\nlanguages.remove('java')    # remove an element\n\ntry:\n    languages.remove('c')       # try to remove a non-existing element (throws an error)\nexcept  KeyError as e:\n    print(\"Error\", e)\n\nlanguages.discard('c')      # removes an element if present, but ignored otherwise\nlanguages.pop()             # removes and returns an arbitrary element\nlanguages.clear()           # removes all elements\nlanguages.update('go', 'spark') # add multiple elements (can also pass a list or set)\n\n# get a sorted list of unique elements from a list\nsorted(set([9, 0, 2, 1, 0]))    # returns [0, 1, 2, 9]"
      ]
    },
    {
      "cell_type": "markdown",
      "metadata": {},
      "source": [
        "## Iterators\n\nCartesian product\n\n"
      ]
    },
    {
      "cell_type": "code",
      "execution_count": null,
      "metadata": {
        "collapsed": false
      },
      "outputs": [],
      "source": [
        "import itertools\n\nprint([[x, y] for x, y in itertools.product(['a', 'b', 'c'], [1, 2])])"
      ]
    },
    {
      "cell_type": "markdown",
      "metadata": {},
      "source": [
        "# Execution control statements\n\n\n"
      ]
    },
    {
      "cell_type": "markdown",
      "metadata": {},
      "source": [
        "## Conditional statements\n\n"
      ]
    },
    {
      "cell_type": "code",
      "execution_count": null,
      "metadata": {
        "collapsed": false
      },
      "outputs": [],
      "source": [
        "x = 3\n# if statement\nif x > 0:\n    print('positive')\n\n# if/else statement\nif x > 0:\n    print('positive')\nelse:\n    print('zero or negative')\n\n# if/elif/else statement\nif x > 0:\n    print('positive')\nelif x == 0:\n    print('zero')\nelse:\n    print('negative')\n\n# single-line if statement (sometimes discouraged)\nif x > 0: print('positive')\n\n# single-line if/else statement (sometimes discouraged)\n# known as a 'ternary operator'\nsign = 'positive' if x > 0 else 'zero or negative'"
      ]
    },
    {
      "cell_type": "markdown",
      "metadata": {},
      "source": [
        "## Loops\n\nLoops are a set of instructions which repeat until termination\nconditions are met. This can include iterating through all values in an\nobject, go through a range of values, etc\n\n\n"
      ]
    },
    {
      "cell_type": "code",
      "execution_count": null,
      "metadata": {
        "collapsed": false
      },
      "outputs": [],
      "source": [
        "# range returns a list of integers\nrange(0, 3)     # returns [0, 1, 2]: includes first value but excludes second value\nrange(3)        # same thing: starting at zero is the default\nrange(0, 5, 2)  # returns [0, 2, 4]: third argument specifies the 'stride'\n\n# for loop\nfruits = ['apple', 'banana', 'cherry']\nfor i in range(len(fruits)):\n    print(fruits[i].upper())\n\n# alternative for loop (recommended style)\nfor fruit in fruits:\n    print(fruit.upper())\n\n# use range when iterating over a large sequence to avoid actually creating the integer list in memory\nv = 0\nfor i in range(10 ** 6):\n    v += 1"
      ]
    },
    {
      "cell_type": "markdown",
      "metadata": {},
      "source": [
        "# List comprehensions, iterators, etc.\n\n## List comprehensions\n\nProcess which affects whole lists without iterating through loops. For\nmore:\nhttp://python-3-patterns-idioms-test.readthedocs.io/en/latest/Comprehensions.html\n\n\n"
      ]
    },
    {
      "cell_type": "code",
      "execution_count": null,
      "metadata": {
        "collapsed": false
      },
      "outputs": [],
      "source": [
        "# for loop to create a list of cubes\nnums = [1, 2, 3, 4, 5]\ncubes = []\nfor num in nums:\n    cubes.append(num**3)\n\n# equivalent list comprehension\ncubes = [num**3 for num in nums]    # [1, 8, 27, 64, 125]\n\n# for loop to create a list of cubes of even numbers\ncubes_of_even = []\nfor num in nums:\n    if num % 2 == 0:\n        cubes_of_even.append(num**3)\n\n# equivalent list comprehension\n# syntax: [expression for variable in iterable if condition]\ncubes_of_even = [num**3 for num in nums if num % 2 == 0]    # [8, 64]\n\n# for loop to cube even numbers and square odd numbers\ncubes_and_squares = []\nfor num in nums:\n    if num % 2 == 0:\n        cubes_and_squares.append(num**3)\n    else:\n        cubes_and_squares.append(num**2)\n\n# equivalent list comprehension (using a ternary expression)\n# syntax: [true_condition if condition else false_condition for variable in iterable]\ncubes_and_squares = [num**3 if num % 2 == 0 else num**2 for num in nums]    # [1, 8, 9, 64, 25]\n\n# for loop to flatten a 2d-matrix\nmatrix = [[1, 2], [3, 4]]\nitems = []\nfor row in matrix:\n    for item in row:\n        items.append(item)\n\n# equivalent list comprehension\nitems = [item for row in matrix\n              for item in row] # [1, 2, 3, 4]\n\n# set comprehension\nfruits = ['apple', 'banana', 'cherry']\nunique_lengths = {len(fruit) for fruit in fruits}   # {5, 6}\n\n# dictionary comprehension\nfruit_lengths = {fruit:len(fruit) for fruit in fruits} # {'apple': 5, 'banana': 6, 'cherry': 6}"
      ]
    },
    {
      "cell_type": "markdown",
      "metadata": {},
      "source": [
        "Exercise: upper-case names and add 1 year to all simpsons\n\n"
      ]
    },
    {
      "cell_type": "code",
      "execution_count": null,
      "metadata": {
        "collapsed": false
      },
      "outputs": [],
      "source": [
        "simpsons = {'Homer': 45, 'Marge': 45, 'Bart': 10, 'Lisa': 10}\n\nsimpsons_older = {k.upper(): v + 1 for k, v in simpsons.items()}\nprint(simpsons_older)"
      ]
    },
    {
      "cell_type": "markdown",
      "metadata": {},
      "source": [
        "## Exercice: count words in a sentence\n\n\n"
      ]
    },
    {
      "cell_type": "code",
      "execution_count": null,
      "metadata": {
        "collapsed": false
      },
      "outputs": [],
      "source": [
        "quote = \"\"\"Tick-tow\nour incomes are like our shoes; if too small they gall and pinch us\nbut if too large they cause us to stumble and to trip\n\"\"\"\n\ncount = {word: 0 for word in set(quote.split())}\nfor word in quote.split():\n    count[word] += 1\n\n# iterate through two things at once (using tuple unpacking)\nfamily = {'dad': 'homer', 'mom': 'marge', 'size': 6}\nfor key, value in family.items():\n    print(key, value)\n\n# use enumerate if you need to access the index value within the loop\nfor index, fruit in enumerate(fruits):\n    print(index, fruit)\n\n# for/else loop\nfor fruit in fruits:\n    if fruit == 'banana':\n        print(\"Found the banana!\")\n        break   # exit the loop and skip the 'else' block\n    else:\n        # this block executes ONLY if the for loop completes without hitting\n        # 'break'\n        print(\"Can't find the banana\")\n\n# while loop\ncount = 0\nwhile count < 5:\n    print(\"This will print 5 times\")\n    count += 1      # equivalent to 'count = count + 1'"
      ]
    },
    {
      "cell_type": "markdown",
      "metadata": {},
      "source": [
        "## Exceptions handling\n\n\n"
      ]
    },
    {
      "cell_type": "code",
      "execution_count": null,
      "metadata": {
        "collapsed": false
      },
      "outputs": [],
      "source": [
        "dct = dict(a=[1, 2], b=[4, 5])\n\nkey = 'c'\ntry:\n    dct[key]\nexcept:\n    print(\"Key %s is missing. Add it with empty value\" % key)\n    dct['c'] = []\n\nprint(dct)"
      ]
    },
    {
      "cell_type": "markdown",
      "metadata": {},
      "source": [
        "# Functions\n\nFunctions are sets of instructions launched when called upon, they can\nhave multiple input values and a return value\n\n\n"
      ]
    },
    {
      "cell_type": "code",
      "execution_count": null,
      "metadata": {
        "collapsed": false
      },
      "outputs": [],
      "source": [
        "# define a function with no arguments and no return values\ndef print_text():\n    print('this is text')\n\n# call the function\nprint_text()\n\n# define a function with one argument and no return values\ndef print_this(x):\n    print(x)\n\n# call the function\nprint_this(3)       # prints 3\nn = print_this(3)   # prints 3, but doesn't assign 3 to n\n                    # because the function has no return statement\n\ndef add(a, b):\n    return a + b\n\nadd(2, 3)\n\nadd(\"deux\", \"trois\")\n\nadd([\"deux\", \"trois\"], [2, 3])\n\n# define a function with one argument and one return value\ndef square_this(x):\n    return x ** 2\n\n# include an optional docstring to describe the effect of a function\ndef square_this(x):\n    \"\"\"Return the square of a number.\"\"\"\n    return x ** 2\n\n# call the function\nsquare_this(3)          # prints 9\nvar = square_this(3)    # assigns 9 to var, but does not print 9\n\n# default arguments\ndef power_this(x, power=2):\n    return x ** power\n\npower_this(2)    # 4\npower_this(2, 3) # 8\n\n# use 'pass' as a placeholder if you haven't written the function body\ndef stub():\n    pass\n\n# return two values from a single function\ndef min_max(nums):\n    return min(nums), max(nums)\n\n# return values can be assigned to a single variable as a tuple\nnums = [1, 2, 3]\nmin_max_num = min_max(nums)         # min_max_num = (1, 3)\n\n# return values can be assigned into multiple variables using tuple unpacking\nmin_num, max_num = min_max(nums)    # min_num = 1, max_num = 3"
      ]
    },
    {
      "cell_type": "markdown",
      "metadata": {},
      "source": [
        "# Regular expression\n\n\n"
      ]
    },
    {
      "cell_type": "code",
      "execution_count": null,
      "metadata": {
        "collapsed": false
      },
      "outputs": [],
      "source": [
        "import re\n\n# 1. Compile regular expression with a patetrn\nregex = re.compile(\"^.+(sub-.+)_(ses-.+)_(mod-.+)\")"
      ]
    },
    {
      "cell_type": "markdown",
      "metadata": {},
      "source": [
        "2. Match compiled RE on string\n\nCapture the pattern ```anyprefixsub-<subj id>_ses-<session id>_<modality>```\n\n"
      ]
    },
    {
      "cell_type": "code",
      "execution_count": null,
      "metadata": {
        "collapsed": false
      },
      "outputs": [],
      "source": [
        "strings = [\"abcsub-033_ses-01_mod-mri\", \"defsub-044_ses-01_mod-mri\", \"ghisub-055_ses-02_mod-ctscan\"]\nprint([regex.findall(s)[0] for s in strings])"
      ]
    },
    {
      "cell_type": "markdown",
      "metadata": {},
      "source": [
        "Match methods on compiled regular expression\n\n+------------------+----------------------------------------------------------------------------+\n| Method/Attribute | Purpose                                                                    |\n+==================+============================================================================+\n| match(string)    | Determine if the RE matches at the beginning of the string.                |\n+------------------+----------------------------------------------------------------------------+\n| search(string)   | Scan through a string, looking for any location where this RE matches.     |\n+------------------+----------------------------------------------------------------------------+\n| findall(string)  | Find all substrings where the RE matches, and returns them as a list.      |\n+------------------+----------------------------------------------------------------------------+\n| finditer(string) | Find all substrings where the RE matches, and returns them as an iterator. |\n+------------------+----------------------------------------------------------------------------+\n\n"
      ]
    },
    {
      "cell_type": "markdown",
      "metadata": {},
      "source": [
        "2. Replace compiled RE on string\n\n"
      ]
    },
    {
      "cell_type": "code",
      "execution_count": null,
      "metadata": {
        "collapsed": false
      },
      "outputs": [],
      "source": [
        "regex = re.compile(\"(sub-[^_]+)\") # match (sub-...)_\nprint([regex.sub(\"SUB-\", s) for s in strings])\n\nregex.sub(\"SUB-\", \"toto\")"
      ]
    },
    {
      "cell_type": "markdown",
      "metadata": {},
      "source": [
        "Remove all non-alphanumeric characters in a string\n\n"
      ]
    },
    {
      "cell_type": "code",
      "execution_count": null,
      "metadata": {
        "collapsed": false
      },
      "outputs": [],
      "source": [
        "re.sub('[^0-9a-zA-Z]+', '', 'h^&ell`.,|o w]{+orld')"
      ]
    },
    {
      "cell_type": "markdown",
      "metadata": {},
      "source": [
        "# System programming\n\n\n"
      ]
    },
    {
      "cell_type": "markdown",
      "metadata": {},
      "source": [
        "## Operating system interfaces (os)\n\n\n"
      ]
    },
    {
      "cell_type": "code",
      "execution_count": null,
      "metadata": {
        "collapsed": false
      },
      "outputs": [],
      "source": [
        "import os"
      ]
    },
    {
      "cell_type": "markdown",
      "metadata": {},
      "source": [
        "Current working directory\n\n\n"
      ]
    },
    {
      "cell_type": "code",
      "execution_count": null,
      "metadata": {
        "collapsed": false
      },
      "outputs": [],
      "source": [
        "# Get the current working directory\ncwd = os.getcwd()\nprint(cwd)\n\n# Set the current working directory\nos.chdir(cwd)"
      ]
    },
    {
      "cell_type": "markdown",
      "metadata": {},
      "source": [
        "Temporary directory\n\n\n"
      ]
    },
    {
      "cell_type": "code",
      "execution_count": null,
      "metadata": {
        "collapsed": false
      },
      "outputs": [],
      "source": [
        "import tempfile\n\ntmpdir = tempfile.gettempdir()"
      ]
    },
    {
      "cell_type": "markdown",
      "metadata": {},
      "source": [
        "Join paths\n\n\n"
      ]
    },
    {
      "cell_type": "code",
      "execution_count": null,
      "metadata": {
        "collapsed": false
      },
      "outputs": [],
      "source": [
        "mytmpdir = os.path.join(tmpdir, \"foobar\")"
      ]
    },
    {
      "cell_type": "markdown",
      "metadata": {},
      "source": [
        "Create a directory\n\n"
      ]
    },
    {
      "cell_type": "code",
      "execution_count": null,
      "metadata": {
        "collapsed": false
      },
      "outputs": [],
      "source": [
        "os.makedirs(os.path.join(tmpdir, \"foobar\", \"plop\", \"toto\"), exist_ok=True)\n\n# list containing the names of the entries in the directory given by path.\nos.listdir(mytmpdir)"
      ]
    },
    {
      "cell_type": "markdown",
      "metadata": {},
      "source": [
        "## File input/output\n\n\n"
      ]
    },
    {
      "cell_type": "code",
      "execution_count": null,
      "metadata": {
        "collapsed": false
      },
      "outputs": [],
      "source": [
        "filename = os.path.join(mytmpdir, \"myfile.txt\")\nprint(filename)\n\n# Write\nlines = [\"Dans python tout est bon\", \"Enfin, presque\"]\n\n## write line by line\nfd = open(filename, \"w\")\nfd.write(lines[0] + \"\\n\")\nfd.write(lines[1]+ \"\\n\")\nfd.close()\n\n## use a context manager to automatically close your file\nwith open(filename, 'w') as f:\n    for line in lines:\n        f.write(line + '\\n')\n\n# Read\n## read one line at a time (entire file does not have to fit into memory)\nf = open(filename, \"r\")\nf.readline()    # one string per line (including newlines)\nf.readline()    # next line\nf.close()\n\n## read one line at a time (entire file does not have to fit into memory)\nf = open(filename, 'r')\nf.readline()    # one string per line (including newlines)\nf.readline()    # next line\nf.close()\n\n## read the whole file at once, return a list of lines\nf = open(filename, 'r')\nf.readlines()   # one list, each line is one string\nf.close()\n\n## use list comprehension to duplicate readlines without reading entire file at once\nf = open(filename, 'r')\n[line for line in f]\nf.close()\n\n## use a context manager to automatically close your file\nwith open(filename, 'r') as f:\n    lines = [line for line in f]"
      ]
    },
    {
      "cell_type": "markdown",
      "metadata": {},
      "source": [
        "## Explore, list directories\n\n\n"
      ]
    },
    {
      "cell_type": "markdown",
      "metadata": {},
      "source": [
        "Walk\n\n\n"
      ]
    },
    {
      "cell_type": "code",
      "execution_count": null,
      "metadata": {
        "collapsed": false
      },
      "outputs": [],
      "source": [
        "import os\n\nWD = os.path.join(tmpdir, \"foobar\")\n\nfor dirpath, dirnames, filenames in os.walk(WD):\n    print(dirpath, dirnames, filenames)"
      ]
    },
    {
      "cell_type": "markdown",
      "metadata": {},
      "source": [
        "glob, basename and file extension\n\n"
      ]
    },
    {
      "cell_type": "code",
      "execution_count": null,
      "metadata": {
        "collapsed": false
      },
      "outputs": [],
      "source": [
        "import tempfile\nimport glob\n\ntmpdir = tempfile.gettempdir()\n\nfilenames = glob.glob(os.path.join(tmpdir, \"*\", \"*.txt\"))\nprint(filenames)\n\n# take basename then remove extension\nbasenames = [os.path.splitext(os.path.basename(f))[0] for f in filenames]\nprint(basenames)"
      ]
    },
    {
      "cell_type": "markdown",
      "metadata": {},
      "source": [
        "shutil - High-level file operations\n\n\n"
      ]
    },
    {
      "cell_type": "code",
      "execution_count": null,
      "metadata": {
        "collapsed": false
      },
      "outputs": [],
      "source": [
        "import shutil\n\nsrc = os.path.join(tmpdir, \"foobar\",  \"myfile.txt\")\ndst = os.path.join(tmpdir, \"foobar\",  \"plop\", \"myfile.txt\")\nprint(\"copy %s to %s\" % (src, dst))\n\nshutil.copy(src, dst)\n\nprint(\"File %s exists ?\" % dst, os.path.exists(dst))\n\nsrc = os.path.join(tmpdir, \"foobar\",  \"plop\")\ndst = os.path.join(tmpdir, \"plop2\")\nprint(\"copy tree %s under %s\" % (src, dst))\n\ntry:\n    shutil.copytree(src, dst)\n\n    shutil.rmtree(dst)\n\n    shutil.move(src, dst)\nexcept (FileExistsError, FileNotFoundError) as e:\n    pass"
      ]
    },
    {
      "cell_type": "markdown",
      "metadata": {},
      "source": [
        "## Command execution with subprocess\n\n- For more advanced use cases, the underlying Popen interface can be used directly.\n- Run the command described by args.\n- Wait for command to complete\n- return a CompletedProcess instance.\n- Does not capture stdout or stderr by default. To do so, pass PIPE for the stdout and/or stderr arguments.\n\n"
      ]
    },
    {
      "cell_type": "code",
      "execution_count": null,
      "metadata": {
        "collapsed": false
      },
      "outputs": [],
      "source": [
        "import subprocess\n\n# doesn't capture output\np = subprocess.run([\"ls\", \"-l\"])\nprint(p.returncode)\n\n# Run through the shell.\nsubprocess.run(\"ls -l\", shell=True)\n\n# Capture output\nout = subprocess.run([\"ls\", \"-a\", \"/\"], stdout=subprocess.PIPE, stderr=subprocess.STDOUT)\n# out.stdout is a sequence of bytes that should be decoded into a utf-8 string\nprint(out.stdout.decode('utf-8').split(\"\\n\")[:5])"
      ]
    },
    {
      "cell_type": "markdown",
      "metadata": {},
      "source": [
        "## Multiprocessing and multithreading\n\n   **Process**\n\n   A process is a name given to a program instance that has been loaded into memory\n   and managed by the operating system.\n\n   Process = address space + execution context (thread of control)\n\n   Process address space (segments):\n\n   - Code.\n   - Data (static/global).\n   - Heap (dynamic memory allocation).\n   - Stack.\n\n   Execution context:\n\n   - Data registers.\n   - Stack pointer (SP).\n   - Program counter (PC).\n   - Working Registers.\n\n   OS Scheduling of processes: context switching (ie. save/load Execution context)\n\n   Pros/cons\n\n   - Context switching expensive.\n   - (potentially) complex data sharing (not necessary true).\n   - Cooperating processes - no need for memory protection (separate address spaces).\n   - Relevant for parrallel computation with memory allocation.\n\n   **Threads**\n\n   - Threads share the same address space (Data registers): access to code, heap and (global) data.\n   - Separate execution stack, PC and Working Registers.\n\n   Pros/cons\n\n   - Faster context switching only SP, PC and Working Registers.\n   - Can exploit fine-grain concurrency\n   - Simple data sharing through the shared address space.\n   - Precautions have to be taken or two threads will write to the same memory at the same time. This is what the **global interpreter lock (GIL)** is for.\n   - Relevant for GUI, I/O (Network, disk) concurrent operation\n\n   **In Python**\n\n   - The ``threading`` module uses threads.\n   - The ``multiprocessing`` module uses processes.\n\n"
      ]
    },
    {
      "cell_type": "markdown",
      "metadata": {},
      "source": [
        "Multithreading\n\n\n"
      ]
    },
    {
      "cell_type": "code",
      "execution_count": null,
      "metadata": {
        "collapsed": false
      },
      "outputs": [],
      "source": [
        "import time\nimport threading\n\ndef list_append(count, sign=1, out_list=None):\n    if out_list is None:\n        out_list = list()\n    for i in range(count):\n        out_list.append(sign * i)\n        sum(out_list) # do some computation\n    return out_list\n\nsize = 10000   # Number of numbers to add\n\nout_list = list() # result is a simple list\nthread1 = threading.Thread(target=list_append, args=(size, 1, out_list, ))\nthread2 = threading.Thread(target=list_append, args=(size, -1, out_list, ))\n\nstartime = time.time()\n# Will execute both in parallel\nthread1.start()\nthread2.start()\n# Joins threads back to the parent process\nthread1.join()\nthread2.join()\nprint(\"Threading ellapsed time \", time.time() - startime)\n\nprint(out_list[:10])"
      ]
    },
    {
      "cell_type": "markdown",
      "metadata": {},
      "source": [
        "Multiprocessing\n\n\n"
      ]
    },
    {
      "cell_type": "code",
      "execution_count": null,
      "metadata": {
        "collapsed": false
      },
      "outputs": [],
      "source": [
        "import multiprocessing\n\n# Sharing requires specific mecanism\nout_list1 = multiprocessing.Manager().list()\np1 = multiprocessing.Process(target=list_append, args=(size, 1, None))\nout_list2 = multiprocessing.Manager().list()\np2 = multiprocessing.Process(target=list_append, args=(size, -1, None))\n\nstartime = time.time()\np1.start()\np2.start()\np1.join()\np2.join()\nprint(\"Multiprocessing ellapsed time \", time.time() - startime)\n\n# print(out_list[:10]) is not availlable"
      ]
    },
    {
      "cell_type": "markdown",
      "metadata": {},
      "source": [
        "Sharing object between process with Managers\n\nManagers provide a way to create data which can be shared between\ndifferent processes, including sharing over a network between processes\nrunning on different machines. A manager object controls a server process\nwhich manages shared objects.\n\n"
      ]
    },
    {
      "cell_type": "code",
      "execution_count": null,
      "metadata": {
        "collapsed": false
      },
      "outputs": [],
      "source": [
        "import multiprocessing\nimport time\n\nsize = int(size / 100)   # Number of numbers to add\n\n# Sharing requires specific mecanism\nout_list = multiprocessing.Manager().list()\np1 = multiprocessing.Process(target=list_append, args=(size, 1, out_list))\np2 = multiprocessing.Process(target=list_append, args=(size, -1, out_list))\n\nstartime = time.time()\n\np1.start()\np2.start()\n\np1.join()\np2.join()\n\nprint(out_list[:10])\n\nprint(\"Multiprocessing with shared object ellapsed time \", time.time() - startime)"
      ]
    },
    {
      "cell_type": "markdown",
      "metadata": {},
      "source": [
        "# Scripts and argument parsing\n\nExample, the word count script ::\n\n       import os\n       import os.path\n       import argparse\n       import re\n       import pandas as pd\n\n       if __name__ == \"__main__\":\n           # parse command line options\n           output = \"word_count.csv\"\n           parser = argparse.ArgumentParser()\n           parser.add_argument('-i', '--input',\n                               help='list of input files.',\n                               nargs='+', type=str)\n           parser.add_argument('-o', '--output',\n                               help='output csv file (default %s)' % output,\n                               type=str, default=output)\n           options = parser.parse_args()\n\n           if options.input is None :\n               parser.print_help()\n               raise SystemExit(\"Error: input files are missing\")\n           else:\n               filenames = [f for f in options.input if os.path.isfile(f)]\n\n           # Match words\n           regex = re.compile(\"[a-zA-Z]+\")\n\n           count = dict()\n           for filename in filenames:\n               fd = open(filename, \"r\")\n               for line in fd:\n                   for word in regex.findall(line.lower()):\n                       if not word in count:\n                           count[word] = 1\n                       else:\n                           count[word] += 1\n\n           fd = open(options.output, \"w\")\n\n           # Pandas\n           df = pd.DataFrame([[k, count[k]] for k in count], columns=[\"word\", \"count\"])\n           df.to_csv(options.output, index=False)\n\n"
      ]
    },
    {
      "cell_type": "markdown",
      "metadata": {},
      "source": [
        "# Networking\n\n\n"
      ]
    },
    {
      "cell_type": "code",
      "execution_count": null,
      "metadata": {
        "collapsed": false
      },
      "outputs": [],
      "source": [
        "# TODO"
      ]
    },
    {
      "cell_type": "markdown",
      "metadata": {},
      "source": [
        "## FTP\n\n\n"
      ]
    },
    {
      "cell_type": "code",
      "execution_count": null,
      "metadata": {
        "collapsed": false
      },
      "outputs": [],
      "source": [
        "# Full FTP features with ftplib\nimport ftplib\nftp = ftplib.FTP(\"ftp.cea.fr\")\nftp.login()\nftp.cwd('/pub/unati/people/educhesnay/pystatml')\nftp.retrlines('LIST')\n\nfd = open(os.path.join(tmpdir, \"README.md\"), \"wb\")\nftp.retrbinary('RETR README.md', fd.write)\nfd.close()\nftp.quit()\n\n# File download urllib\nimport urllib.request\nftp_url = 'ftp://ftp.cea.fr/pub/unati/people/educhesnay/pystatml/README.md'\nurllib.request.urlretrieve(ftp_url, os.path.join(tmpdir, \"README2.md\"))"
      ]
    },
    {
      "cell_type": "markdown",
      "metadata": {},
      "source": [
        "## HTTP\n\n\n"
      ]
    },
    {
      "cell_type": "code",
      "execution_count": null,
      "metadata": {
        "collapsed": false
      },
      "outputs": [],
      "source": [
        "# TODO"
      ]
    },
    {
      "cell_type": "markdown",
      "metadata": {},
      "source": [
        "## Sockets\n\n\n"
      ]
    },
    {
      "cell_type": "code",
      "execution_count": null,
      "metadata": {
        "collapsed": false
      },
      "outputs": [],
      "source": [
        "# TODO"
      ]
    },
    {
      "cell_type": "markdown",
      "metadata": {},
      "source": [
        "## xmlrpc\n\n\n"
      ]
    },
    {
      "cell_type": "code",
      "execution_count": null,
      "metadata": {
        "collapsed": false
      },
      "outputs": [],
      "source": [
        "# TODO"
      ]
    },
    {
      "cell_type": "markdown",
      "metadata": {},
      "source": [
        "# Modules and packages\n\nA module is a Python file.\nA package is a directory which MUST contain a special file called ``__init__.py``\n\nTo import, extend variable `PYTHONPATH`::\n\n     export PYTHONPATH=path_to_parent_python_module:${PYTHONPATH}\n\nOr\n\n"
      ]
    },
    {
      "cell_type": "code",
      "execution_count": null,
      "metadata": {
        "collapsed": false
      },
      "outputs": [],
      "source": [
        "import sys\nsys.path.append(\"path_to_parent_python_module\")"
      ]
    },
    {
      "cell_type": "markdown",
      "metadata": {},
      "source": [
        "The ``__init__.py`` file can be empty. But you can set which modules the\npackage exports as the API, while keeping other modules internal,\nby overriding the __all__ variable, like so:\n\n"
      ]
    },
    {
      "cell_type": "markdown",
      "metadata": {},
      "source": [
        "``parentmodule/__init__.py`` file::\n\n    from . import submodule1\n    from . import submodule2\n\n    from .submodule3 import function1\n    from .submodule3 import function2\n\n    __all__ = [\"submodule1\", \"submodule2\",\n               \"function1\", \"function2\"]\n\nUser can import::\n\n    import parentmodule.submodule1\n    import parentmodule.function1\n\n"
      ]
    },
    {
      "cell_type": "markdown",
      "metadata": {},
      "source": [
        "Python Unit Testing\n\nTODO\n\n"
      ]
    },
    {
      "cell_type": "markdown",
      "metadata": {},
      "source": [
        "# Object Oriented Programming (OOP)\n\n**Sources**\n\n-  http://python-textbok.readthedocs.org/en/latest/Object\\_Oriented\\_Programming.html\n\n**Principles**\n\n-  **Encapsulate** data (attributes) and code (methods) into objects.\n\n-  **Class** = template or blueprint that can be used to create objects.\n\n-  An **object** is a specific instance of a class.\n\n-  **Inheritance**: OOP allows classes to inherit commonly used state\n   and behaviour from other classes. Reduce code duplication\n\n-  **Polymorphism**: (usually obtained through polymorphism) calling\n   code is agnostic as to whether an object belongs to a parent class or\n   one of its descendants (abstraction, modularity). The same method\n   called on 2 objects of 2 different classes will behave differently.\n\n\n"
      ]
    },
    {
      "cell_type": "code",
      "execution_count": null,
      "metadata": {
        "collapsed": false
      },
      "outputs": [],
      "source": [
        "import math\n\n\nclass Shape2D:\n    def area(self):\n        raise NotImplementedError()\n\n# __init__ is a special method called the constructor\n\n\n# Inheritance + Encapsulation\nclass Square(Shape2D):\n    def __init__(self, width):\n        self.width = width\n\n    def area(self):\n        return self.width ** 2\n\n\nclass Disk(Shape2D):\n    def __init__(self, radius):\n        self.radius = radius\n\n    def area(self):\n        return math.pi * self.radius ** 2\n\n\nshapes = [Square(2), Disk(3)]\n\n# Polymorphism\nprint([s.area() for s in shapes])\n\ns = Shape2D()\ntry:\n    s.area()\nexcept NotImplementedError as e:\n    print(\"NotImplementedError\", e)"
      ]
    },
    {
      "cell_type": "markdown",
      "metadata": {},
      "source": [
        "# Style guide for Python programming\n\nSee `PEP 8 <https://www.python.org/dev/peps/pep-0008/>`_\n\n- Spaces (four) are the preferred indentation method.\n- Two blank lines for top level function or classes definition.\n- One blank line to indicate logical sections.\n- Never use: ``from lib import *``\n- Bad: ``Capitalized_Words_With_Underscores``\n- Function and Variable Names: ``lower_case_with_underscores``\n- Class Names: ``CapitalizedWords`` (aka: ``CamelCase``)\n\n"
      ]
    },
    {
      "cell_type": "markdown",
      "metadata": {},
      "source": [
        "# Documenting\n\nSee `Documenting Python <https://realpython.com/documenting-python-code//>`_\nDocumenting = comments + docstrings (Python documentation string)\n\n- `Docstrings <https://www.datacamp.com/community/tutorials/docstrings-python>`_\n  are use as documentation for the class, module, and packages.\n  See it as \"living documentation\".\n- Comments are  used to explain non-obvious portions of the code. \"Dead documentation\".\n\nDocstrings for functions (same for classes and methods):\n\n"
      ]
    },
    {
      "cell_type": "code",
      "execution_count": null,
      "metadata": {
        "collapsed": false
      },
      "outputs": [],
      "source": [
        "def my_function(a, b=2):\n    \"\"\"\n    This function ...\n\n    Parameters\n    ----------\n    a : float\n        First operand.\n    b : float, optional\n        Second operand. The default is 2.\n\n    Returns\n    -------\n    Sum of operands.\n\n    Example\n    -------\n    >>> my_function(3)\n    5\n    \"\"\"\n    # Add a with b (this is a comment)\n    return a + b\n\nprint(help(my_function))"
      ]
    },
    {
      "cell_type": "markdown",
      "metadata": {},
      "source": [
        "Docstrings for scripts:\n\nAt the begining of a script add a pream::\n\n       \"\"\"\n       Created on Thu Nov 14 12:08:41 CET 2019\n\n       @author: firstname.lastname@email.com\n\n       Some description\n       \"\"\"\n\n"
      ]
    },
    {
      "cell_type": "markdown",
      "metadata": {},
      "source": [
        "# Exercises\n\n\n"
      ]
    },
    {
      "cell_type": "markdown",
      "metadata": {},
      "source": [
        "## Exercise 1: functions\n\nCreate a function that acts as a simple calulator If the operation is\nnot specified, default to addition If the operation is misspecified,\nreturn an prompt message Ex: ``calc(4,5,\"multiply\")`` returns 20 Ex:\n``calc(3,5)`` returns 8 Ex: ``calc(1, 2, \"something\")`` returns error\nmessage\n\n\n"
      ]
    },
    {
      "cell_type": "markdown",
      "metadata": {},
      "source": [
        "## Exercise 2: functions + list + loop\n\nGiven a list of numbers, return a list where all adjacent duplicate\nelements have been reduced to a single element. Ex: ``[1, 2, 2, 3, 2]``\nreturns ``[1, 2, 3, 2]``. You may create a new list or modify the passed\nin list.\n\nRemove all duplicate values (adjacent or not) Ex: ``[1, 2, 2, 3, 2]``\nreturns ``[1, 2, 3]``\n\n\n"
      ]
    },
    {
      "cell_type": "markdown",
      "metadata": {},
      "source": [
        "## Exercise 3: File I/O\n\n1. Copy/paste the BSD 4 clause license (https://en.wikipedia.org/wiki/BSD_licenses)\ninto a text file. Read, the file and count the occurrences of each\nword within the file. Store the words' occurrence number in a dictionary.\n\n2. Write an executable python command ``count_words.py`` that parse\na list of input files provided after ``--input`` parameter.\nThe dictionary of occurrence is save in a csv file provides by ``--output``.\nwith default value word_count.csv.\nUse:\n- open\n- regular expression\n- argparse (https://docs.python.org/3/howto/argparse.html)\n\n"
      ]
    },
    {
      "cell_type": "markdown",
      "metadata": {},
      "source": [
        "## Exercise 4: OOP\n\n1. Create a class ``Employee`` with 2 attributes provided in the\n   constructor: ``name``, ``years_of_service``. With one method\n   ``salary`` with is obtained by ``1500 + 100 * years_of_service``.\n\n2. Create a subclass ``Manager`` which redefine ``salary`` method\n   ``2500 + 120 * years_of_service``.\n\n3. Create a small dictionary-nosed database where the key is the\n   employee's name. Populate the database with: samples =\n   Employee('lucy', 3), Employee('john', 1), Manager('julie', 10),\n   Manager('paul', 3)\n\n4. Return a table of made name, salary rows, i.e. a list of list [[name,\n   salary]]\n\n5. Compute the average salary\n\n"
      ]
    }
  ],
  "metadata": {
    "kernelspec": {
      "display_name": "Python 3",
      "language": "python",
      "name": "python3"
    },
    "language_info": {
      "codemirror_mode": {
        "name": "ipython",
        "version": 3
      },
      "file_extension": ".py",
      "mimetype": "text/x-python",
      "name": "python",
      "nbconvert_exporter": "python",
      "pygments_lexer": "ipython3",
      "version": "3.8.3"
    }
  },
  "nbformat": 4,
  "nbformat_minor": 0
}